{
 "cells": [
  {
   "cell_type": "markdown",
   "metadata": {},
   "source": [
    "# SG13G2 gm/Id Sizing Script for a 5T OTA w/ Cap. Feedback\n",
    "\n",
    "**Copyright 2025 Michael Koefinger**\n",
    "\n",
    "Licensed under the Apache License, Version 2.0 (the \"License\");\n",
    "you may not use this file except in compliance with the License.\n",
    "You may obtain a copy of the License at\n",
    "http://www.apache.org/licenses/LICENSE-2.0\n",
    "\n"
   ]
  },
  {
   "cell_type": "code",
   "execution_count": 1,
   "metadata": {
    "ExecuteTime": {
     "end_time": "2024-12-12T08:49:07.996049Z",
     "start_time": "2024-12-12T08:49:06.564501Z"
    }
   },
   "outputs": [],
   "source": [
    "from pygmid import Lookup as lk\n",
    "import numpy as np\n",
    "import matplotlib.pyplot as plt\n",
    "import math as m\n",
    "# LUTs can be found at https://github.com/iic-jku/analog-circuit-design/tree/main/sizing\n",
    "table_dir = \"../../analog-circuit-design/sizing/\"\n",
    "lv_nmos = lk(table_dir + \"sg13_lv_nmos.mat\")\n",
    "lv_pmos = lk(table_dir + \"sg13_lv_pmos.mat\")\n",
    "GM_ID_MIN_CONST = 3\n",
    "GM_ID_MAX_CONST = 32"
   ]
  },
  {
   "cell_type": "markdown",
   "metadata": {},
   "source": [
    "### Define flavor of active and load devices"
   ]
  },
  {
   "cell_type": "code",
   "execution_count": 2,
   "metadata": {},
   "outputs": [],
   "source": [
    "mos_active = lv_nmos\n",
    "mos_load = lv_pmos"
   ]
  },
  {
   "cell_type": "markdown",
   "metadata": {
    "collapsed": false
   },
   "source": [
    "### Define System Level Specifications"
   ]
  },
  {
   "cell_type": "code",
   "execution_count": 3,
   "metadata": {
    "ExecuteTime": {
     "end_time": "2024-12-12T08:49:08.009471Z",
     "start_time": "2024-12-12T08:49:08.001809Z"
    },
    "collapsed": false
   },
   "outputs": [
    {
     "name": "stdout",
     "output_type": "stream",
     "text": [
      "n_bits =  3  bit\n",
      "t_settle = 249.99999999999997  ns\n",
      "A_stage = 2\n",
      "beta = 0.5\n",
      "settling_acc = 25.0 %\n",
      "settling_acc_db = -12.041199826559248  dB\n",
      "n_settle = 1.3862943611198906\n",
      "settling_acc_margin = 13.53352832366127 %\n",
      "settling_acc_margin_db = -17.371779276130074  dB\n",
      "n_settle_margin = 2.0\n",
      "gm_cload = 16.0  uS/pF\n",
      "gbw = 2.5464790894703255 MHz\n",
      "bw_cl =  1.2732395447351628 MHz\n",
      "dynamic_error_min =  0.8646647167633873\n",
      "A0 = 16.070979571740526\n",
      "A0 = 24.120846980986762  dB\n",
      "vn_rms_tot =  133.52920435315835 mVrms\n",
      "vn_rms_ktc =  94.41940588456254 mVrms\n",
      "vn_rms_ota =  94.41940588456254 mVrms\n",
      "c_fb =  0.0013931538166122668 fF\n",
      "c_load =  0.0027863076332245336 fF\n",
      "gm = 0.04458092213159254  nS\n",
      "slew reate = 6.0  V/us\n"
     ]
    }
   ],
   "source": [
    "# Constants\n",
    "k_t = 1.38e-23\n",
    "temperature = 300\n",
    "\n",
    "# Specs\n",
    "n_bit_stage = 1\n",
    "n_bit_tot = 3\n",
    "n_stages = n_bit_tot/n_bit_stage\n",
    "osr = 1                                         # oversampling ratio\n",
    "f_b = 1e6                                      # ADC's -3dB-bandwidth\n",
    "factor_noise_ktc = 0.5                          # kT/C noise budget of overall output noise\n",
    "nef_ota = 2                                     # noise excess factor of ota noise compared to 4kT*gamma*gm\n",
    "vo_se = 1.5                                       # single-ended output swing of MDAC\n",
    "\n",
    "f_s = f_b*2*osr                                 # sampling frequency of the ADC\n",
    "a_stage = 2**n_bit_stage\n",
    "beta = 1/a_stage\n",
    "t_settle = 1/f_s/2\n",
    "settling_acc = 1/2**(n_bit_tot-n_bit_stage)     # dynamic error at t_settle\n",
    "settling_acc_db = 20 * np.log10(settling_acc)\n",
    "n_settle = -np.log(settling_acc)\n",
    "n_settle_margin = np.ceil(n_settle)\n",
    "settling_acc_margin = np.exp(-n_settle_margin)\n",
    "settling_acc_margin_db = 20*np.log10(settling_acc_margin)\n",
    "\n",
    "tau_o = t_settle / n_settle_margin\n",
    "bw_cl = 1 / tau_o\n",
    "gbw = bw_cl / beta\n",
    "gm_per_cload = 2*n_settle_margin*f_s*a_stage\n",
    "\n",
    "# Calculate min. required DC gain\n",
    "# Define static error as\n",
    "static_error_margin = 1/np.sqrt(2)\n",
    "dynamic_error_min = 1-settling_acc_margin\n",
    "\n",
    "gain_dc_min = a_stage*((dynamic_error_min/(settling_acc_margin*static_error_margin))-1)\n",
    "gain_dc_min_db = 20*np.log10(gain_dc_min)\n",
    "\n",
    "# Noise Considerations\n",
    "vo_diff_pp = 2*vo_se\n",
    "vo_rms = vo_diff_pp/2/np.sqrt(2)\n",
    "snr_margin_db = np.ceil(-settling_acc_margin_db)\n",
    "vn_rms_tot = np.sqrt(vo_rms**2/10**(snr_margin_db/10))\n",
    "vn_rms_ktc = np.sqrt(factor_noise_ktc)*vn_rms_tot\n",
    "vn_rms_ota = np.sqrt(1-factor_noise_ktc)*vn_rms_tot\n",
    "c_fb = k_t*temperature*(a_stage+1)/(vn_rms_ktc**2)\n",
    "c_load = nef_ota*k_t*temperature*(a_stage+1)/(vn_rms_ota**2)\n",
    "gm = gm_per_cload*c_load\n",
    "\n",
    "# Slew rate\n",
    "slew_rate = vo_se/t_settle\n",
    "\n",
    "# Print Results\n",
    "print(\"n_bits = \", n_bit_tot, \" bit\")\n",
    "print(\"t_settle =\", t_settle / 1e-9, \" ns\")\n",
    "print(\"A_stage =\", a_stage)\n",
    "print(\"beta =\", beta)\n",
    "print(\"settling_acc =\", settling_acc * 100, \"%\")\n",
    "print(\"settling_acc_db =\", settling_acc_db,\" dB\")\n",
    "print(\"n_settle =\", n_settle)\n",
    "print(\"settling_acc_margin =\", settling_acc_margin * 100, \"%\")\n",
    "print(\"settling_acc_margin_db =\", settling_acc_margin_db,\" dB\")\n",
    "print(\"n_settle_margin =\", n_settle_margin)\n",
    "print(\"gm_cload =\", gm_per_cload / 1e6, \" uS/pF\")\n",
    "print(\"gbw =\", gbw / 2 / np.pi / 1e6, \"MHz\")\n",
    "print(\"bw_cl = \", bw_cl / 2 / np.pi / 1e6, \"MHz\")\n",
    "print(\"dynamic_error_min = \", dynamic_error_min)\n",
    "print(\"A0 =\", gain_dc_min)\n",
    "print(\"A0 =\", gain_dc_min_db, \" dB\")\n",
    "print(\"vn_rms_tot = \", vn_rms_tot / 1e-3, \"mVrms\")\n",
    "print(\"vn_rms_ktc = \", vn_rms_ktc / 1e-3, \"mVrms\")\n",
    "print(\"vn_rms_ota = \", vn_rms_ota / 1e-3, \"mVrms\")\n",
    "print(\"c_fb = \", c_fb / 1e-15, \"fF\")\n",
    "print(\"c_load = \", c_load / 1e-15, \"fF\")\n",
    "print(\"gm =\", gm / 1e-9, \" nS\")\n",
    "print(\"slew reate =\", slew_rate * 1e-6, \" V/us\")"
   ]
  },
  {
   "cell_type": "markdown",
   "metadata": {},
   "source": [
    "### Design \n",
    "- Find Trade-off for Cgg/Cgs of Input Transistors! Small Cgs is good for bandwidth and noise, but needs more bias current, due to smaller device and thus smaller gm/Id\n",
    "- Define cap. ratio which defines ideal CL gain (Acl = 1+G): G = Ci/CFtot\n",
    "- Define Fanout: FO = CL/Ci (how many stages must one stage drive?)\n",
    "- Define cap. ratio, between parasitics at the gate Cp and sum of wanted caps: CR = Cp/(Ci+CFtot)\n",
    "- Rewrite feedback factor beta in terms of ideal gain and cap. ratio: beta = 1/((1+G)(1+CR))"
   ]
  },
  {
   "cell_type": "code",
   "execution_count": 4,
   "metadata": {},
   "outputs": [],
   "source": [
    "fanout = 2         # CMFB + Ci of next stage \n",
    "g = 1\n",
    "cr = 0.05          # start with ideal cr ratio for loop"
   ]
  },
  {
   "cell_type": "markdown",
   "metadata": {},
   "source": [
    "#### Circuit Level Specifications"
   ]
  },
  {
   "cell_type": "code",
   "execution_count": 5,
   "metadata": {},
   "outputs": [],
   "source": [
    "vds_margin = 0.05\n",
    "vdd = 1.5\n",
    "vtail = 0.25 + vds_margin\n",
    "vcmi = vdd/2\n",
    "vcmo = vdd/2\n",
    "i_tail_max = 100e-6\n",
    "i_drain_min = 0.1e-6\n",
    "gm_id_active_default = 18\n",
    "gm_id_load_default = 12\n",
    "go_active_go_load = 3\n",
    "c_min = 0.1e-12\n",
    "l_vec = np.arange(0.2,10,0.2)"
   ]
  },
  {
   "cell_type": "markdown",
   "metadata": {},
   "source": [
    "#### Inital choices of design parameters"
   ]
  },
  {
   "cell_type": "code",
   "execution_count": 6,
   "metadata": {},
   "outputs": [],
   "source": [
    "gm_id_active = gm_id_active_default\n",
    "alpha = 2\n",
    "gamma_active = 1\n",
    "gamma_load = 1\n",
    "beta = 1/((1+g)*(1+cr))"
   ]
  },
  {
   "cell_type": "markdown",
   "metadata": {},
   "source": [
    "#### Init parasitic caps"
   ]
  },
  {
   "cell_type": "code",
   "execution_count": 7,
   "metadata": {},
   "outputs": [],
   "source": [
    "c_db_active = 0\n",
    "c_gd_active = 0\n",
    "c_dd_load = 0"
   ]
  },
  {
   "cell_type": "markdown",
   "metadata": {},
   "source": [
    "#### Inital self loading, rerun from here for self loading loop"
   ]
  },
  {
   "cell_type": "code",
   "execution_count": 8,
   "metadata": {},
   "outputs": [],
   "source": [
    "cp_f = 0#np.abs(c_gd_active)\n",
    "cp_o = np.abs(c_db_active) + np.abs(c_dd_load)"
   ]
  },
  {
   "cell_type": "markdown",
   "metadata": {},
   "source": [
    "#### Determine length based on min. dc gain requirement"
   ]
  },
  {
   "cell_type": "code",
   "execution_count": 9,
   "metadata": {},
   "outputs": [
    {
     "name": "stdout",
     "output_type": "stream",
     "text": [
      "L =  0.25474388142356197  um\n",
      "L =  0.5  um\n"
     ]
    }
   ],
   "source": [
    "gm_gds_vec = mos_active.look_up('GM_GDS', GM_ID = gm_id_active, VSB=vtail, VDS=(vcmo-vtail), L=l_vec)\n",
    "l_active = np.interp(gain_dc_min, gm_gds_vec, l_vec) # 1/2: account for PMOS load by halfing the intrinsic gain\n",
    "print('L = ',l_active,' um')\n",
    "l_active_round = max(round(l_active*2)/2, 0.5)\n",
    "print('L = ',l_active_round,' um')"
   ]
  },
  {
   "cell_type": "markdown",
   "metadata": {},
   "source": [
    "#### Compute caps. based on noise (thermal only)"
   ]
  },
  {
   "cell_type": "code",
   "execution_count": 10,
   "metadata": {},
   "outputs": [
    {
     "name": "stdout",
     "output_type": "stream",
     "text": [
      "Ci =  100.0  fF\n",
      "Cf =  100.0  fF\n",
      "CL =  200.0  fF\n",
      "Cgs =  10.0  fF\n",
      "CLtot =  252.38095238095235  fF\n"
     ]
    }
   ],
   "source": [
    "c_load_tot = (alpha/beta)*k_t*temperature/(vn_rms_ota**2)\n",
    "c_fb_tot = (c_load_tot-cp_o)/(fanout*g+1-beta)+cp_f\n",
    "if c_fb_tot < c_min:\n",
    "    c_fb_tot = c_min\n",
    "c_input = g*c_fb_tot\n",
    "c_load = fanout*c_input\n",
    "cp_i = cr*(c_input+c_fb_tot) # may model this as cgs of input caps\n",
    "c_load_tot = (1-beta)*c_fb_tot+c_load+cp_o\n",
    "print(\"Ci = \", c_input/1e-15, \" fF\")\n",
    "print(\"Cf = \", c_fb_tot/1e-15, \" fF\")\n",
    "print(\"CL = \", c_load/1e-15, \" fF\")\n",
    "print(\"Cgs = \", cp_i/1e-15, \" fF\")\n",
    "print(\"CLtot = \", c_load_tot/1e-15, \" fF\")"
   ]
  },
  {
   "cell_type": "markdown",
   "metadata": {},
   "source": [
    "#### Determine min. drain current based on slew rate requirements"
   ]
  },
  {
   "cell_type": "code",
   "execution_count": 43,
   "metadata": {},
   "outputs": [
    {
     "name": "stdout",
     "output_type": "stream",
     "text": [
      "i_drain_min =  1.5142857142857145 uA\n"
     ]
    }
   ],
   "source": [
    "i_drain_min = slew_rate*c_load_tot\n",
    "print(\"i_drain_min = \", i_drain_min / 1e-6, \"uA\")"
   ]
  },
  {
   "cell_type": "markdown",
   "metadata": {},
   "source": [
    "#### Compute gm based on GBW from system spec, requ. total load cap and output parasitcs"
   ]
  },
  {
   "cell_type": "code",
   "execution_count": 44,
   "metadata": {},
   "outputs": [
    {
     "name": "stdout",
     "output_type": "stream",
     "text": [
      "gm =  8.48  uS\n",
      "gm/cgs = 8.479999999999999 1e8 rad/s\n"
     ]
    }
   ],
   "source": [
    "gm_active = (c_load_tot)*gbw/beta\n",
    "#gm_active = (go_active+go_load)/beta*np.sqrt((gbw*(c_load_tot+cp_o)/(go_active+go_load))^2+1)\n",
    "print(\"gm = \", gm_active/1e-6, \" uS\")\n",
    "print(\"gm/cgs =\", gm_active/cp_i/1e8, \"1e8 rad/s\")"
   ]
  },
  {
   "cell_type": "markdown",
   "metadata": {},
   "source": [
    "#### Size input MOS, based on gm/cgg"
   ]
  },
  {
   "cell_type": "code",
   "execution_count": 45,
   "metadata": {},
   "outputs": [
    {
     "data": {
      "image/png": "[encoded data removed]",
      "text/plain": [
       "<Figure size 640x480 with 1 Axes>"
      ]
     },
     "metadata": {},
     "output_type": "display_data"
    }
   ],
   "source": [
    "gm_id_vec = np.arange(GM_ID_MIN_CONST,GM_ID_MAX_CONST,1)\n",
    "gm_cgs_vec = mos_active.look_up('GM_CGS', GM_ID = gm_id_vec, VSB=vtail, VDS=(vcmo-vtail), L=l_active_round)\n",
    "gm_cgg_vec = mos_active.look_up('GM_CGG', GM_ID = gm_id_vec, VSB=vtail, VDS=(vcmo-vtail), L=l_active_round)\n",
    "gm_cgb_vec = mos_active.look_up('GM_CGB', GM_ID = gm_id_vec, VSB=vtail, VDS=(vcmo-vtail), L=l_active_round)\n",
    "fig, ax1 = plt.subplots()\n",
    "ax1.grid(axis='both')\n",
    "ax1.set_xlabel('$gm/ID$ (S/A)')\n",
    "ax1.set_ylabel('gm/C (rad/s)')\n",
    "ax1.plot(gm_id_vec, gm_cgg_vec, color='tab:red')\n",
    "ax1.plot(gm_id_vec, gm_cgs_vec, color='tab:blue')\n",
    "#ax1.plot(gm_id_vec, gm_cgb_vec, color='tab:green')\n",
    "ax1.tick_params(axis='y')\n",
    "ax1.legend(loc='center right', labels=['gm/Cgg','gm/Cgs', 'gm/Cgb'])\n",
    "fig.tight_layout()\n",
    "plt.title('NMOS, L='+str(l_active_round)+' um')\n",
    "plt.xlim(3, 32)\n",
    "plt.show()"
   ]
  },
  {
   "cell_type": "code",
   "execution_count": 46,
   "metadata": {},
   "outputs": [
    {
     "name": "stdout",
     "output_type": "stream",
     "text": [
      "gm/id =  30.816866898999653\n",
      "gm/id =  30.816866898999653\n",
      "id =  2.751739827346066e-07\n",
      "IDS =  1.5  uA\n",
      "W =  27.87713394447339  um\n",
      "W =  28.0  um\n"
     ]
    }
   ],
   "source": [
    "\n",
    "gm_id_ = mos_active.look_up('GM_ID', GM_CGG = gm_active/cp_i, VSB=vtail, VDS=(vcmo-vtail), L=l_active_round)\n",
    "print(\"gm/id = \", gm_id_)\n",
    "if type(gm_id_) != list:\n",
    "    if gm_id_ >= GM_ID_MIN_CONST and gm_id_ <= GM_ID_MAX_CONST:\n",
    "        gm_id_active = gm_id_\n",
    "    else:\n",
    "        gm_id_active = gm_id_active_default\n",
    "else:\n",
    "    gm_id_active = gm_id_active_default\n",
    "\n",
    "print(\"gm/id = \", gm_id_active)\n",
    "\n",
    "i_drain = gm_active/gm_id_active\n",
    "print(\"id = \", i_drain)\n",
    "\n",
    "if i_drain < i_drain_min:\n",
    "    i_drain = max(round(i_drain_min*2e6)/2e6,0.5e-6)\n",
    "    gm_active = gm_id_active*i_drain\n",
    "\n",
    "if i_drain > i_tail_max/2:\n",
    "    i_drain = i_tail_max/2\n",
    "\n",
    "j_drain = mos_active.look_up('ID_W', GM_ID=gm_id_active, VSB=vtail, VDS=(vcmo-vtail), L=l_active_round)\n",
    "w_active = i_drain/j_drain\n",
    "w_active_round = max(round(w_active*2)/2, 0.5)\n",
    "vdsat_active = 2/gm_id_active\n",
    "print(\"IDS = \", i_drain/1e-6, \" uA\")\n",
    "print(\"W = \", w_active, \" um\")\n",
    "print(\"W = \", w_active_round, \" um\")"
   ]
  },
  {
   "cell_type": "markdown",
   "metadata": {},
   "source": [
    "#### Find best gm/id for the load"
   ]
  },
  {
   "cell_type": "code",
   "execution_count": 47,
   "metadata": {},
   "outputs": [
    {
     "name": "stdout",
     "output_type": "stream",
     "text": [
      "SNR_max =  70.76688246173809  dB @ gm/id =  9.245060069699896 S/A\n"
     ]
    },
    {
     "data": {
      "image/png": "[encoded data removed]",
      "text/plain": [
       "<Figure size 640x480 with 1 Axes>"
      ]
     },
     "metadata": {},
     "output_type": "display_data"
    }
   ],
   "source": [
    "STH_active = mos_active.look_up('STH_GM', GM_ID = gm_id_active, VSB=vtail, VDS=(vcmo-vtail), L=l_active_round)*gm_active\n",
    "gamma_active = STH_active/(4*k_t*temperature*gm_active)\n",
    "gm_load_vec = np.arange(0.2,0.8,0.05)*gm_active\n",
    "alpha_vec = gamma_active*(1+gamma_load/gamma_active*gm_load_vec/gm_active)\n",
    "gm_id_load_vec = gm_load_vec/i_drain\n",
    "# TODO: check if calc. snr lines up with simulation, single ended vs. differential issue?\n",
    "vo_p_se_vec = vdd-vtail-2/gm_id_active-2/gm_id_load_vec\n",
    "p_sig_vec = (vo_p_se_vec/np.sqrt(2))**2\n",
    "p_noi_vec = alpha_vec/beta*k_t*temperature/c_load_tot\n",
    "snr_vec = 10*np.log10(p_sig_vec/p_noi_vec)\n",
    "snr_max = np.max(snr_vec)\n",
    "idx = np.squeeze(np.where(np.isclose(snr_vec,snr_max)))\n",
    "gm_load = gm_load_vec[idx]\n",
    "print(\"SNR_max = \", snr_max, \" dB @ gm/id = \", gm_load/i_drain, \"S/A\")\n",
    "\n",
    "fig, ax1 = plt.subplots()\n",
    "ax1.grid(axis='both')\n",
    "ax1.set_xlabel('gm/ID (S/A)')\n",
    "ax1.set_ylabel('SNR (dB)')\n",
    "ax1.plot(gm_id_load_vec, snr_vec, color='tab:blue')\n",
    "ax1.plot(gm_id_load_vec, snr_margin_db*np.ones(len(snr_vec)), color='tab:red')\n",
    "ax1.tick_params(axis='y')\n",
    "ax1.legend(loc='center right', labels=['SNR (single-ended)', 'min. SNR (differential)'])\n",
    "fig.tight_layout()\n",
    "plt.title('Bias point of Load vs. SNR, L='+str(l_active_round)+' um')\n",
    "plt.show()"
   ]
  },
  {
   "cell_type": "markdown",
   "metadata": {},
   "source": [
    "#### Size Load Device based on optimum dyn. range"
   ]
  },
  {
   "cell_type": "code",
   "execution_count": 48,
   "metadata": {},
   "outputs": [
    {
     "name": "stdout",
     "output_type": "stream",
     "text": [
      "Vo_se_p =  0.9187687283372732  Vp\n",
      "SNR_max =  70.76688246173809  dB @ gm/id =  9.245060069699896 S/A\n",
      "L =  0.2  um\n",
      "L =  0.5  um\n",
      "W =  0.47406044422044336  um\n",
      "W =  0.5  um\n"
     ]
    }
   ],
   "source": [
    "gm_id_load_idx_offset = 0\n",
    "print(\"Vo_se_p = \",vo_p_se_vec[idx+gm_id_load_idx_offset], \" Vp\")\n",
    "gm_load = gm_load_vec[idx+gm_id_load_idx_offset]\n",
    "gm_id_load = gm_load/i_drain\n",
    "print(\"SNR_max = \", snr_vec[idx+gm_id_load_idx_offset], \" dB @ gm/id = \", gm_id_load, \"S/A\")\n",
    "vdsat_load = 2/gm_load/i_drain\n",
    "\n",
    "go_active = gm_active/mos_active.look_up('GM_GDS', GM_ID = gm_id_active, VSB=vtail, VDS=(vcmo-vtail), L=l_active_round)\n",
    "go_load_desired = go_active/go_active_go_load\n",
    "gm_gds_load_vec = mos_load.look_up('GM_GDS', GM_ID = gm_id_load, VSB=0, VDS=vcmo, L=l_vec)\n",
    "l_load = np.interp(go_load_desired, gm_gds_load_vec, l_vec)                                                      # account for PMOS load by halfing the intrinsic gain\n",
    "print('L = ',l_load,' um')\n",
    "l_load_round = max(round(l_load*2)/2, 0.5)\n",
    "print('L = ',l_load_round,' um')\n",
    "\n",
    "j_load = mos_load.look_up('ID_W', GM_ID = gm_id_load, VSB=0, VDS=vcmo, L=l_load_round)\n",
    "w_load = i_drain/j_load\n",
    "print('W = ',w_load,' um')\n",
    "w_load_round = max(round(w_load*2)/2, 0.5)\n",
    "print('W = ',w_load_round,' um')"
   ]
  },
  {
   "cell_type": "markdown",
   "metadata": {},
   "source": [
    "#### Find correct $\\alpha$ for opt. DR"
   ]
  },
  {
   "cell_type": "code",
   "execution_count": 49,
   "metadata": {},
   "outputs": [
    {
     "name": "stdout",
     "output_type": "stream",
     "text": [
      "0.5928784320437944\n"
     ]
    }
   ],
   "source": [
    "STH_load = mos_load.look_up('STH_GM', GM_ID = gm_id_load, VSB = 0, VDS = vcmo, L=l_load_round)*gm_load\n",
    "gamma_load = STH_load/(4*k_t*temperature*gm_load)\n",
    "alpha = gamma_active*(1+(gamma_load*gm_load)/(gamma_active/gm_active))\n",
    "print(alpha)"
   ]
  },
  {
   "cell_type": "markdown",
   "metadata": {},
   "source": [
    "#### Account for self loading"
   ]
  },
  {
   "cell_type": "code",
   "execution_count": 50,
   "metadata": {},
   "outputs": [
    {
     "name": "stdout",
     "output_type": "stream",
     "text": [
      "8.891973731584951e-15\n",
      "1.6497676504875306e-14\n",
      "3.788787309805025e-16\n"
     ]
    }
   ],
   "source": [
    "cdd_w_active = mos_active.look_up('CDD_W', GM_ID = gm_id_active, VSB=vtail, VDS=(vcmo-vtail), L=l_active_round)\n",
    "cgd_w_active = mos_active.look_up('CGD_W', GM_ID = gm_id_active, VSB=vtail, VDS=(vcmo-vtail), L=l_active_round)\n",
    "cdd_w_load = mos_load.look_up('CDD_W', GM_ID = gm_id_load, VSB=0, VDS=vcmo, L=l_load_round)\n",
    "c_db_active = (cdd_w_active - cgd_w_active)*w_active_round\n",
    "c_gd_active = cgd_w_active*w_active_round\n",
    "c_dd_load = cdd_w_load*w_load_round\n",
    "print(c_db_active)\n",
    "print(c_gd_active)\n",
    "print(c_dd_load)"
   ]
  }
 ],
 "metadata": {
  "kernelspec": {
   "display_name": "Python 3",
   "language": "python",
   "name": "python3"
  },
  "language_info": {
   "codemirror_mode": {
    "name": "ipython",
    "version": 3
   },
   "file_extension": ".py",
   "mimetype": "text/x-python",
   "name": "python",
   "nbconvert_exporter": "python",
   "pygments_lexer": "ipython3",
   "version": "3.12.4"
  }
 },
 "nbformat": 4,
 "nbformat_minor": 2
}
